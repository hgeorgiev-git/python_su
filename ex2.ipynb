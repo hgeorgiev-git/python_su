{
 "cells": [
  {
   "cell_type": "markdown",
   "id": "f62c3c64-4161-4775-9706-d662ba62aa7a",
   "metadata": {},
   "source": [
    "# Exercise 2\n",
    "\n",
    "Make the required imports by the notebook"
   ]
  },
  {
   "cell_type": "code",
   "execution_count": 4,
   "id": "62d4ec5d-d9d7-4ad4-bd5b-2b925503c04e",
   "metadata": {},
   "outputs": [],
   "source": [
    "import numpy as np\n",
    "import matplotlib.pyplot as plt\n",
    "from astropy.io import fits\n",
    "from astropy.table import Table\n",
    "from astropy import units as u\n",
    "plt.ion()\n",
    "import os"
   ]
  },
  {
   "cell_type": "markdown",
   "id": "8278f9b1-fab3-4245-8543-14719e066cab",
   "metadata": {},
   "source": [
    "How to define astopy Quantities from literals - single values or list of values."
   ]
  },
  {
   "cell_type": "code",
   "execution_count": 5,
   "id": "33263c53-1e0e-4f41-8f28-ce80cdc91c9c",
   "metadata": {},
   "outputs": [
    {
     "name": "stdout",
     "output_type": "stream",
     "text": [
      "50.0 m\n",
      "[23. 45. 88.] m\n"
     ]
    }
   ],
   "source": [
    "a = 50.0 * u.meter\n",
    "b = [23, 45, 88] * u.meter\n",
    "print(a)\n",
    "print(b)"
   ]
  },
  {
   "cell_type": "markdown",
   "id": "ecd5868f-89de-4cce-8508-18bf7083ba2b",
   "metadata": {},
   "source": [
    "How to get the mean value of a list using numpy"
   ]
  },
  {
   "cell_type": "code",
   "execution_count": 6,
   "id": "5af96165-fd8e-46ae-b7a9-8ed3642a04a1",
   "metadata": {},
   "outputs": [
    {
     "data": {
      "text/latex": [
       "$52 \\; \\mathrm{m}$"
      ],
      "text/plain": [
       "<Quantity 52. m>"
      ]
     },
     "execution_count": 6,
     "metadata": {},
     "output_type": "execute_result"
    }
   ],
   "source": [
    "np.mean(b)"
   ]
  },
  {
   "cell_type": "markdown",
   "id": "53b1d088-7177-430b-82a1-0467b6ca2b0b",
   "metadata": {},
   "source": [
    "How to get velocity Quantity from distance and time Quantities"
   ]
  },
  {
   "cell_type": "markdown",
   "id": "297ac473-6ace-43d3-bf44-ab11e4b4fbbc",
   "metadata": {},
   "source": [
    "15 * u.meter / (3 * u.second)"
   ]
  },
  {
   "cell_type": "markdown",
   "id": "d99bcbe5-e206-4f72-99ba-15b764f29529",
   "metadata": {},
   "source": [
    "You can also define distance Quantities in astronomical units."
   ]
  },
  {
   "cell_type": "code",
   "execution_count": 7,
   "id": "f17e78a3-fb79-40eb-beb7-38c9eb20afd5",
   "metadata": {},
   "outputs": [
    {
     "name": "stdout",
     "output_type": "stream",
     "text": [
      "62.0 pc\n"
     ]
    }
   ],
   "source": [
    "x = 62 * u.parsec\n",
    "y = 45 * u.parsec\n",
    "print(x)"
   ]
  },
  {
   "cell_type": "markdown",
   "id": "8a57e6d6-8863-4cf3-bcc8-cbcd649f903f",
   "metadata": {},
   "source": [
    "When you divide Quantites in the same measurement units, you receive a scalar value - without measurement unit."
   ]
  },
  {
   "cell_type": "code",
   "execution_count": 11,
   "id": "76328591-8687-4c13-bc6c-f8ca6f3854e2",
   "metadata": {},
   "outputs": [
    {
     "data": {
      "text/latex": [
       "$1.3777778 \\; \\mathrm{}$"
      ],
      "text/plain": [
       "<Quantity 1.37777778>"
      ]
     },
     "execution_count": 11,
     "metadata": {},
     "output_type": "execute_result"
    }
   ],
   "source": [
    "x /y"
   ]
  },
  {
   "cell_type": "markdown",
   "id": "6cef3496-d148-4448-8398-6c42e671b08f",
   "metadata": {},
   "source": [
    "You can get the \"raw\" value of a Quantity using the **value** property"
   ]
  },
  {
   "cell_type": "code",
   "execution_count": 15,
   "id": "da2f3da5-48c5-4621-aeab-680ed98da2b0",
   "metadata": {},
   "outputs": [
    {
     "data": {
      "text/plain": [
       "62.0"
      ]
     },
     "execution_count": 15,
     "metadata": {},
     "output_type": "execute_result"
    }
   ],
   "source": [
    "z = x.value\n",
    "z"
   ]
  },
  {
   "cell_type": "markdown",
   "id": "2c01bc5a-055e-4f29-9b01-a93c1b4c2cd2",
   "metadata": {},
   "source": [
    "You can also divide \"raw\" values of Quantities."
   ]
  },
  {
   "cell_type": "code",
   "execution_count": 8,
   "id": "defd1deb-eb72-4cdd-8fe8-10111e87e8f7",
   "metadata": {},
   "outputs": [
    {
     "name": "stdout",
     "output_type": "stream",
     "text": [
      "1.3777777777777778\n"
     ]
    }
   ],
   "source": [
    "z = x.value / y.value\n",
    "print(z)"
   ]
  },
  {
   "cell_type": "markdown",
   "id": "f1ec21c1-f77e-426d-abb9-5e8fe71c41d3",
   "metadata": {},
   "source": [
    "How to round float values."
   ]
  },
  {
   "cell_type": "code",
   "execution_count": 18,
   "id": "6363f72f-efab-4664-a16e-0054b60b345e",
   "metadata": {},
   "outputs": [
    {
     "data": {
      "text/plain": [
       "1.38"
      ]
     },
     "execution_count": 18,
     "metadata": {},
     "output_type": "execute_result"
    }
   ],
   "source": [
    "np.around(z, decimals=2)"
   ]
  },
  {
   "cell_type": "markdown",
   "id": "f142e091-b370-4d4f-a009-ce79c70d11eb",
   "metadata": {},
   "source": [
    "Use the method **type** to get the type of a given variable."
   ]
  },
  {
   "cell_type": "code",
   "execution_count": 19,
   "id": "35692ab3-3351-4051-9030-d3f404c218dd",
   "metadata": {},
   "outputs": [
    {
     "data": {
      "text/plain": [
       "astropy.units.quantity.Quantity"
      ]
     },
     "execution_count": 19,
     "metadata": {},
     "output_type": "execute_result"
    }
   ],
   "source": [
    "type(x)"
   ]
  },
  {
   "cell_type": "markdown",
   "id": "9bd1ac71-3248-45fc-a3f7-b8fc3bddb757",
   "metadata": {},
   "source": [
    "Here is a shorthand with whcih you can create a list of Quantities from the \"raw\" values and the measurement Unit."
   ]
  },
  {
   "cell_type": "code",
   "execution_count": 10,
   "id": "d0ac555c-bc68-45b1-8451-9386d2d215c3",
   "metadata": {},
   "outputs": [],
   "source": [
    "c = [4, 7, 10] * u.second"
   ]
  },
  {
   "cell_type": "markdown",
   "id": "8c1c09d8-0f89-4b3f-8246-d3b9883b9fd3",
   "metadata": {},
   "source": [
    "From the examples above, we have distances **b** and moments of time **c**.\n",
    "\n",
    "Here is how you can create a plot, in which the x-axis is **b** and y-axis is **c**.\n",
    "Set the appropriate lables and legends.\n",
    "\n",
    "Then, you can use the **linspace** method from the **numpy** package to crete an array from values from given interval and step.\n",
    "After that simply use the same figure to plot the array."
   ]
  },
  {
   "cell_type": "code",
   "execution_count": 11,
   "id": "a116db74-88b5-4396-9ea6-7eb46f9f1289",
   "metadata": {},
   "outputs": [
    {
     "data": {
      "text/plain": [
       "[<matplotlib.lines.Line2D at 0x2c3e5579290>]"
      ]
     },
     "execution_count": 11,
     "metadata": {},
     "output_type": "execute_result"
    },
    {
     "data": {
      "image/png": "[encoded data removed]",
      "text/plain": [
       "<Figure size 700x500 with 1 Axes>"
      ]
     },
     "metadata": {},
     "output_type": "display_data"
    }
   ],
   "source": [
    "plt.figure(figsize=(7,5))\n",
    "plt.plot(b, c, ls='', color='#300500', marker='.', label='Wind Vitosha')\n",
    "plt.xlabel(\"distance [m]\", fontsize=14)\n",
    "plt.ylabel(\"time [s]\", fontsize=14)\n",
    "plt.legend()\n",
    "\n",
    "l1 = np.linspace(0, 100, 2)\n",
    "l2 = np.linspace(0, 100, 2)\n",
    "plt.plot(l1, l2, color='gray', ls='--')"
   ]
  },
  {
   "cell_type": "code",
   "execution_count": null,
   "id": "0cec1119-3626-465b-8660-79450769eb72",
   "metadata": {},
   "outputs": [],
   "source": []
  }
 ],
 "metadata": {
  "kernelspec": {
   "display_name": "Python 3 (ipykernel)",
   "language": "python",
   "name": "python3"
  },
  "language_info": {
   "codemirror_mode": {
    "name": "ipython",
    "version": 3
   },
   "file_extension": ".py",
   "mimetype": "text/x-python",
   "name": "python",
   "nbconvert_exporter": "python",
   "pygments_lexer": "ipython3",
   "version": "3.11.4"
  }
 },
 "nbformat": 4,
 "nbformat_minor": 5
}
