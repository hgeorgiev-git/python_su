{
 "cells": [
  {
   "cell_type": "code",
   "execution_count": 7,
   "id": "a4a0406a-cc63-4b53-858c-8c76054a2eaf",
   "metadata": {},
   "outputs": [],
   "source": [
    "import numpy as np\n",
    "import matplotlib.pyplot as plt\n",
    "from astropy.io import fits\n",
    "from astropy.table import Table\n",
    "from astropy import units as u\n",
    "plt.ion()\n",
    "import os\n",
    "\n",
    "%matplotlib widget\n"
   ]
  },
  {
   "cell_type": "markdown",
   "id": "c8db1e01-ab26-4301-9915-e04f606055e7",
   "metadata": {},
   "source": [
    "### Test interactive plot"
   ]
  },
  {
   "cell_type": "code",
   "execution_count": 9,
   "id": "c8c1b044-f3d1-4d8b-a96e-b315fd7ef059",
   "metadata": {},
   "outputs": [],
   "source": [
    "# plt.plot([1,2,3], [1,2,3])"
   ]
  },
  {
   "cell_type": "markdown",
   "id": "5de40ef0-0d43-4c27-9500-1dbc1be7e509",
   "metadata": {},
   "source": [
    "$$E = m c ^ 2 $$\n",
    "\n",
    "$$E = h \\nu $$"
   ]
  },
  {
   "cell_type": "code",
   "execution_count": 10,
   "id": "63be9ba9-a0a8-46af-baeb-d01356a3c695",
   "metadata": {},
   "outputs": [],
   "source": [
    "s = [1,4,5,8]"
   ]
  },
  {
   "cell_type": "code",
   "execution_count": 13,
   "id": "f818444e-cea6-4aae-9394-985792c7cf2d",
   "metadata": {},
   "outputs": [
    {
     "name": "stdout",
     "output_type": "stream",
     "text": [
      "9\n"
     ]
    }
   ],
   "source": [
    "r = 4 + s[2]\n",
    "print(r)"
   ]
  },
  {
   "cell_type": "code",
   "execution_count": 14,
   "id": "2454b49f-7fdc-48a5-9def-6e97430cbbb7",
   "metadata": {},
   "outputs": [
    {
     "name": "stdout",
     "output_type": "stream",
     "text": [
      "Hristo Georgiev\n"
     ]
    }
   ],
   "source": [
    "e = \"Hristo\" + \" \" + \"Georgiev\"\n",
    "print(e)"
   ]
  },
  {
   "cell_type": "code",
   "execution_count": 15,
   "id": "4143a814-6634-4968-9276-637bbb45f2b7",
   "metadata": {},
   "outputs": [
    {
     "name": "stdout",
     "output_type": "stream",
     "text": [
      "Hristo Georgiev!\n"
     ]
    }
   ],
   "source": [
    "e += \"!\"\n",
    "print(e)"
   ]
  },
  {
   "cell_type": "code",
   "execution_count": 17,
   "id": "0616e985-72dc-4e9d-b5b2-4e17c2302da9",
   "metadata": {},
   "outputs": [
    {
     "name": "stdout",
     "output_type": "stream",
     "text": [
      "HRISTO GEORGIEV!\n"
     ]
    }
   ],
   "source": [
    "f = e.upper()\n",
    "print(f)"
   ]
  },
  {
   "cell_type": "code",
   "execution_count": 21,
   "id": "2cabf633-65bd-431c-85f0-a67b58a878d1",
   "metadata": {},
   "outputs": [
    {
     "name": "stdout",
     "output_type": "stream",
     "text": [
      "HRISTO\n",
      "GEORGIEV\n"
     ]
    }
   ],
   "source": [
    "n1 = f.split(' ')[0]\n",
    "n2 = f.split(' ')[1][:-1]\n",
    "\n",
    "print(n1)\n",
    "print(n2)"
   ]
  },
  {
   "cell_type": "code",
   "execution_count": 22,
   "id": "1befcd13-b5f3-471c-bcc2-47f2594df681",
   "metadata": {},
   "outputs": [],
   "source": [
    "l1 = [4, 5.5, \"home\"]"
   ]
  },
  {
   "cell_type": "code",
   "execution_count": 23,
   "id": "6b6abe52-a8cd-45ee-9649-fe6ff8693fcc",
   "metadata": {},
   "outputs": [
    {
     "name": "stdout",
     "output_type": "stream",
     "text": [
      "4\n"
     ]
    }
   ],
   "source": [
    "print(l1[0])"
   ]
  },
  {
   "cell_type": "code",
   "execution_count": 24,
   "id": "5d16b810-323a-4aa9-88ff-e66106eea051",
   "metadata": {},
   "outputs": [
    {
     "name": "stdout",
     "output_type": "stream",
     "text": [
      "m\n"
     ]
    }
   ],
   "source": [
    "print(l1[2][2])"
   ]
  },
  {
   "cell_type": "code",
   "execution_count": 26,
   "id": "28978b8d-6440-462b-b66b-79346a361081",
   "metadata": {},
   "outputs": [
    {
     "name": "stdout",
     "output_type": "stream",
     "text": [
      "[4, 16, 'home']\n"
     ]
    }
   ],
   "source": [
    "l1[1] = 16\n",
    "print(l1)"
   ]
  },
  {
   "cell_type": "code",
   "execution_count": 27,
   "id": "40297950-0897-4f63-929e-a5a85f253738",
   "metadata": {},
   "outputs": [
    {
     "name": "stdout",
     "output_type": "stream",
     "text": [
      "[4, 16, 'home', 'school']\n"
     ]
    }
   ],
   "source": [
    "l1.append(\"school\")\n",
    "print(l1)"
   ]
  },
  {
   "cell_type": "code",
   "execution_count": 29,
   "id": "21230455-8cab-4ca4-8377-575bec3d880a",
   "metadata": {},
   "outputs": [
    {
     "name": "stdout",
     "output_type": "stream",
     "text": [
      "[4, 7, 7, 16, 'home', 'school']\n"
     ]
    }
   ],
   "source": [
    "l1.insert(1, 7)\n",
    "print(l1)"
   ]
  },
  {
   "cell_type": "code",
   "execution_count": 36,
   "id": "e1a93f88-ffef-46dc-a6e8-eb3987f26448",
   "metadata": {},
   "outputs": [
    {
     "name": "stdout",
     "output_type": "stream",
     "text": [
      "<class 'float'>\n",
      "<class 'int'>\n",
      "<class 'int'>\n",
      "9\n"
     ]
    }
   ],
   "source": [
    "g = 3.4\n",
    "print(type(g))\n",
    "k = int(g)\n",
    "print(type(k))\n",
    "print(type(l1[1]))\n",
    "\n",
    "w = int(float('5.5')) + int(float('4.3'))\n",
    "print(w)"
   ]
  }
 ],
 "metadata": {
  "kernelspec": {
   "display_name": "Python 3 (ipykernel)",
   "language": "python",
   "name": "python3"
  },
  "language_info": {
   "codemirror_mode": {
    "name": "ipython",
    "version": 3
   },
   "file_extension": ".py",
   "mimetype": "text/x-python",
   "name": "python",
   "nbconvert_exporter": "python",
   "pygments_lexer": "ipython3",
   "version": "3.11.4"
  }
 },
 "nbformat": 4,
 "nbformat_minor": 5
}
